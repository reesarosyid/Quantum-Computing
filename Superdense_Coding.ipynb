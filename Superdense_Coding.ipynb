{
 "cells": [
  {
   "cell_type": "code",
   "execution_count": 1,
   "id": "57c076df",
   "metadata": {},
   "outputs": [],
   "source": [
    "# https://www.qmunity.tech/tutorials"
   ]
  },
  {
   "cell_type": "code",
   "execution_count": 2,
   "id": "1e2cc89e",
   "metadata": {},
   "outputs": [],
   "source": [
    "import numpy as np\n",
    "import math\n",
    "from math import sqrt\n",
    "from qiskit import ClassicalRegister, QuantumRegister, QuantumCircuit\n",
    "from qiskit import execute\n",
    "from qiskit import Aer\n",
    "from qiskit import BasicAer\n",
    "from qiskit.tools.visualization import circuit_drawer\n",
    "from qiskit.tools.visualization import plot_histogram\n",
    "from qiskit.tools.visualization import plot_bloch_multivector\n",
    "from qiskit.quantum_info import Statevector\n",
    "from qiskit import transpile"
   ]
  },
  {
   "cell_type": "markdown",
   "id": "03d93a39",
   "metadata": {},
   "source": [
    "## Step One : Preparation"
   ]
  },
  {
   "cell_type": "code",
   "execution_count": 3,
   "id": "c278a894",
   "metadata": {},
   "outputs": [],
   "source": [
    "def preparation(qc):\n",
    "    qc.h(0)\n",
    "    qc.cx(0,1)\n"
   ]
  },
  {
   "cell_type": "markdown",
   "id": "1c605d7b",
   "metadata": {},
   "source": [
    "## Step Two : Separation"
   ]
  },
  {
   "cell_type": "code",
   "execution_count": 4,
   "id": "2aedbe17",
   "metadata": {},
   "outputs": [],
   "source": [
    "def seperation(qc):\n",
    "    qc.barrier()"
   ]
  },
  {
   "cell_type": "markdown",
   "id": "5f7627ea",
   "metadata": {},
   "source": [
    "## Step Three : Encoding"
   ]
  },
  {
   "cell_type": "code",
   "execution_count": 5,
   "id": "0d6a2004",
   "metadata": {},
   "outputs": [],
   "source": [
    "## Sender can manipulate h(is/er) part of entangled qubits to encode 2 bits of classical information\n",
    "def state_00(qc):\n",
    "    pass\n",
    "\n",
    "def state_01(qc):\n",
    "    qc.x(0)\n",
    "\n",
    "def state_10(qc):\n",
    "    qc.z(0)\n",
    "    \n",
    "def state_11(qc):\n",
    "    qc.x(0)\n",
    "    qc.z(0)\n",
    "\n",
    "def encoding(qc):\n",
    "    message = input('Enter your intended message from 00, 01, 10 and 11 :   ')\n",
    "    if message == '00':\n",
    "        state_00(qc)\n",
    "    elif message == '01':\n",
    "        state_01(qc)\n",
    "    elif message == '10':\n",
    "        state_10(qc)\n",
    "    elif message == '11':\n",
    "        state_11(qc)\n",
    "    else:\n",
    "        print('Invalid message: Sending 00')"
   ]
  },
  {
   "cell_type": "markdown",
   "id": "d61de68d",
   "metadata": {},
   "source": [
    "## Step Four : Transmission"
   ]
  },
  {
   "cell_type": "code",
   "execution_count": 6,
   "id": "93bc66cf",
   "metadata": {},
   "outputs": [],
   "source": [
    "def transmission(qc):\n",
    "    qc.barrier()"
   ]
  },
  {
   "cell_type": "markdown",
   "id": "b56a1c6a",
   "metadata": {},
   "source": [
    "## Step Five : Decoding"
   ]
  },
  {
   "cell_type": "code",
   "execution_count": 7,
   "id": "2ef0735c",
   "metadata": {},
   "outputs": [],
   "source": [
    "## Receiver bell-measures their qubits to retreive the encoded classical bits information:\n",
    "\n",
    "def bell_measure(qc):\n",
    "    qc.cx(0,1)\n",
    "    qc.h(0)\n",
    "    qc.measure(range(2),range(2))\n",
    "    display(qc.draw('mpl'))\n",
    "## Retrieving Information:\n",
    "    backend_sim = Aer.get_backend('statevector_simulator')\n",
    "#     backend_real_qc = least_busy(provider.backends(filters = lambda x: x.configuration().n_qubits >= 2\n",
    "#                                           and not x.configuration().simulator\n",
    "#                                           and x.status().operational == True))\n",
    "#     print(\"Running on: \", backend_real_qc)\n",
    "#     job = execute(qc,backend_real_qc)\n",
    "    job = execute(qc,backend_sim)\n",
    "    result = job.result()\n",
    "    counts = result.get_counts(qc)\n",
    "    received = dict([(value,key) for key,value in counts.items()])\n",
    "    print('Message received: {} '.format(received[1]))\n",
    "    display(plot_histogram(counts))"
   ]
  },
  {
   "cell_type": "markdown",
   "id": "ba8491e4",
   "metadata": {},
   "source": [
    "## The Complete Protocol in a Simulator"
   ]
  },
  {
   "cell_type": "code",
   "execution_count": 8,
   "id": "e350cbf8",
   "metadata": {},
   "outputs": [
    {
     "data": {
      "image/png": "[encoded data removed]",
      "text/plain": [
       "<Figure size 705.35x284.278 with 1 Axes>"
      ]
     },
     "metadata": {},
     "output_type": "display_data"
    },
    {
     "name": "stdout",
     "output_type": "stream",
     "text": [
      "Message received: 00 \n"
     ]
    },
    {
     "data": {
      "image/png": "[encoded data removed]",
      "text/plain": [
       "<Figure size 700x500 with 1 Axes>"
      ]
     },
     "metadata": {},
     "output_type": "display_data"
    }
   ],
   "source": [
    "## Initializing:\n",
    "qc_test = QuantumCircuit(2,2)\n",
    "\n",
    "## Preparing entangled state:\n",
    "preparation(qc_test)\n",
    "\n",
    "## Sender Receiver moves apart:\n",
    "seperation(qc_test)\n",
    "\n",
    "## Sender encodes h(is/er) qubit according to intended 2 bits of classical information:\n",
    "encoding(qc_test)\n",
    "\n",
    "## Sender transmits h(is/er) encoded qubit physically to receiver:\n",
    "transmission(qc_test)\n",
    "\n",
    "# Receiver performs bell-measurement on both qubits to retrieve the encoded 2 bits of information:\n",
    "bell_measure(qc_test)"
   ]
  },
  {
   "cell_type": "code",
   "execution_count": null,
   "id": "45c32930",
   "metadata": {},
   "outputs": [],
   "source": []
  },
  {
   "cell_type": "code",
   "execution_count": null,
   "id": "b9891eb3",
   "metadata": {},
   "outputs": [],
   "source": []
  }
 ],
 "metadata": {
  "kernelspec": {
   "display_name": "Python 3",
   "language": "python",
   "name": "python3"
  },
  "language_info": {
   "codemirror_mode": {
    "name": "ipython",
    "version": 3
   },
   "file_extension": ".py",
   "mimetype": "text/x-python",
   "name": "python",
   "nbconvert_exporter": "python",
   "pygments_lexer": "ipython3",
   "version": "3.9.18"
  }
 },
 "nbformat": 4,
 "nbformat_minor": 5
}
